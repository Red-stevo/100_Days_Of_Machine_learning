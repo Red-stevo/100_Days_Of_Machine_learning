{
 "cells": [
  {
   "cell_type": "code",
   "execution_count": 1,
   "id": "0aba3aea-ae19-4b22-92dc-9fddd0c9de47",
   "metadata": {},
   "outputs": [],
   "source": [
    "import pandas as pd\n",
    "import numpy as np\n",
    "from matplotlib import pyplot as plt\n",
    "from sklearn.datasets import make_regression"
   ]
  },
  {
   "cell_type": "code",
   "execution_count": 50,
   "id": "adf1b3cb-b5c5-410a-bd9f-b92558c372b9",
   "metadata": {},
   "outputs": [],
   "source": [
    "x, y = make_regression(n_samples=10, n_features=1, noise=10, random_state=100)\n",
    "\n",
    "x = np.array(x)\n",
    "y = np.array(y)\n"
   ]
  },
  {
   "cell_type": "code",
   "execution_count": 60,
   "id": "fec39b38-e52b-4f4c-a250-095cad287f53",
   "metadata": {},
   "outputs": [
    {
     "name": "stdout",
     "output_type": "stream",
     "text": [
      "m 1.2236123430945252e-16 b -3.7242588723355134\n"
     ]
    },
    {
     "data": {
      "text/plain": [
       "array([[ 0.25500144],\n",
       "       [ 0.98132079],\n",
       "       [-0.18949583],\n",
       "       [-1.07004333],\n",
       "       [ 0.22117967],\n",
       "       [ 0.3426804 ],\n",
       "       [-1.74976547],\n",
       "       [-0.25243604],\n",
       "       [ 0.51421884],\n",
       "       [ 1.1530358 ]])"
      ]
     },
     "execution_count": 60,
     "metadata": {},
     "output_type": "execute_result"
    },
    {
     "data": {
      "image/png": "[encoded data removed]",
      "text/plain": [
       "<Figure size 640x480 with 1 Axes>"
      ]
     },
     "metadata": {},
     "output_type": "display_data"
    }
   ],
   "source": [
    "m = b = 0\n",
    "iterations = 100000\n",
    "learning_rate = 0.007\n",
    "n = len(x)\n",
    "\n",
    "plt.style.use(\"grayscale\")\n",
    "\n",
    "# Plot original data\n",
    "plt.scatter(x, y)\n",
    "\n",
    "# Gradient descent\n",
    "for i in range(iterations):\n",
    "    y_pred = m * x + b\n",
    "\n",
    "    cost = 1/n * np.sum((y - y_pred)**2)\n",
    "\n",
    "    dm = -(2/n) * np.sum(x * (y - y_pred))\n",
    "    db = -(2/n) * np.sum(y - y_pred)\n",
    "\n",
    "    m -= learning_rate * dm\n",
    "    b -= learning_rate * db\n",
    "\n",
    "\n",
    "y_min = m * 0 + b\n",
    "y_max = m * 10 + b\n",
    "print(f\"m {m} b {b}\")\n",
    "x"
   ]
  },
  {
   "cell_type": "code",
   "execution_count": null,
   "id": "1b47acf5-43d4-4537-8a18-2d2751e56c55",
   "metadata": {},
   "outputs": [],
   "source": []
  }
 ],
 "metadata": {
  "kernelspec": {
   "display_name": "Python 3 (ipykernel)",
   "language": "python",
   "name": "python3"
  },
  "language_info": {
   "codemirror_mode": {
    "name": "ipython",
    "version": 3
   },
   "file_extension": ".py",
   "mimetype": "text/x-python",
   "name": "python",
   "nbconvert_exporter": "python",
   "pygments_lexer": "ipython3",
   "version": "3.11.2"
  }
 },
 "nbformat": 4,
 "nbformat_minor": 5
}
