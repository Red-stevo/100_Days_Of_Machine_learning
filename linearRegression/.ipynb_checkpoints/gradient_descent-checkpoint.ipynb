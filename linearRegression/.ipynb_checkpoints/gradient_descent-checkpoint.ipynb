{
 "cells": [
  {
   "cell_type": "code",
   "execution_count": null,
   "id": "0aba3aea-ae19-4b22-92dc-9fddd0c9de47",
   "metadata": {},
   "outputs": [],
   "source": [
    "import pandas as pd\n",
    "import numpy as np\n",
    "from matplotlib import pyplot as plt\n",
    "from sklearn.datasets import make_regression"
   ]
  },
  {
   "cell_type": "code",
   "execution_count": null,
   "id": "adf1b3cb-b5c5-410a-bd9f-b92558c372b9",
   "metadata": {},
   "outputs": [],
   "source": [
    "x, y = make_regression(n_samples=100, n_features=1, noise=5, random_state=50)\n",
    "\n",
    "x = np.array(x)\n",
    "y = np.array(y)\n",
    "\n",
    "m = b = 0\n",
    "itertions = 100\n",
    "learning_rate = 0.007\n",
    "n = len(x)\n",
    "\n",
    "# calculate the current line.\n",
    "y_min = m * x.min() + b\n",
    "y_max = m * x.max() + b\n",
    "\n",
    "plt.scatter(x, y)\n",
    "plt.plot([x.min(), x.max()], [y_min, y_max], color=\"red\")\n",
    "plt.style.use(\"grayscale\")"
   ]
  },
  {
   "cell_type": "code",
   "execution_count": null,
   "id": "fec39b38-e52b-4f4c-a250-095cad287f53",
   "metadata": {},
   "outputs": [],
   "source": [
    "# Work on the gradient descent.\n",
    "m = b = 0\n",
    "\n",
    "for i in range(itertions):\n",
    "    y_pred = m * x + b\n",
    "    cost = 0.5 * np.sum([val**2 for val in (y - y_pred)])\n",
    "    dm = -(2/n) * (np.sum(x * (y - y_pred)))\n",
    "    db = -(2/n) * (np.sum(y - y_pred))\n",
    "    m = m - learning_rate * dm\n",
    "    b = b - learning_rate * db\n",
    "    y_min = m * x.min() + b\n",
    "    y_max = m * x.max() + b\n",
    "    print(\"loop\")\n",
    "\n",
    "print(\"done\")"
   ]
  },
  {
   "cell_type": "code",
   "execution_count": null,
   "id": "a742924f-403d-4bd0-94ef-c14f02781563",
   "metadata": {},
   "outputs": [],
   "source": [
    "print(\"Hello\")"
   ]
  }
 ],
 "metadata": {
  "kernelspec": {
   "display_name": "Python 3 (ipykernel)",
   "language": "python",
   "name": "python3"
  },
  "language_info": {
   "codemirror_mode": {
    "name": "ipython",
    "version": 3
   },
   "file_extension": ".py",
   "mimetype": "text/x-python",
   "name": "python",
   "nbconvert_exporter": "python",
   "pygments_lexer": "ipython3",
   "version": "3.11.2"
  }
 },
 "nbformat": 4,
 "nbformat_minor": 5
}
