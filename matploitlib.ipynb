{
 "cells": [
  {
   "cell_type": "code",
   "execution_count": 2,
   "id": "342b5f8b-e950-4a1f-9a3a-a310728251b3",
   "metadata": {},
   "outputs": [
    {
     "data": {
      "text/html": [
       "<div>\n",
       "<style scoped>\n",
       "    .dataframe tbody tr th:only-of-type {\n",
       "        vertical-align: middle;\n",
       "    }\n",
       "\n",
       "    .dataframe tbody tr th {\n",
       "        vertical-align: top;\n",
       "    }\n",
       "\n",
       "    .dataframe thead th {\n",
       "        text-align: right;\n",
       "    }\n",
       "</style>\n",
       "<table border=\"1\" class=\"dataframe\">\n",
       "  <thead>\n",
       "    <tr style=\"text-align: right;\">\n",
       "      <th></th>\n",
       "      <th>Year</th>\n",
       "      <th>Industry_aggregation_NZSIOC</th>\n",
       "      <th>Industry_code_NZSIOC</th>\n",
       "      <th>Industry_name_NZSIOC</th>\n",
       "      <th>Units</th>\n",
       "      <th>Variable_code</th>\n",
       "      <th>Variable_name</th>\n",
       "      <th>Variable_category</th>\n",
       "      <th>Value</th>\n",
       "      <th>Industry_code_ANZSIC06</th>\n",
       "    </tr>\n",
       "  </thead>\n",
       "  <tbody>\n",
       "    <tr>\n",
       "      <th>0</th>\n",
       "      <td>2023</td>\n",
       "      <td>Level 1</td>\n",
       "      <td>99999</td>\n",
       "      <td>All industries</td>\n",
       "      <td>Dollars (millions)</td>\n",
       "      <td>H01</td>\n",
       "      <td>Total income</td>\n",
       "      <td>Financial performance</td>\n",
       "      <td>930995</td>\n",
       "      <td>ANZSIC06 divisions A-S (excluding classes K633...</td>\n",
       "    </tr>\n",
       "    <tr>\n",
       "      <th>1</th>\n",
       "      <td>2023</td>\n",
       "      <td>Level 1</td>\n",
       "      <td>99999</td>\n",
       "      <td>All industries</td>\n",
       "      <td>Dollars (millions)</td>\n",
       "      <td>H04</td>\n",
       "      <td>Sales, government funding, grants and subsidies</td>\n",
       "      <td>Financial performance</td>\n",
       "      <td>821630</td>\n",
       "      <td>ANZSIC06 divisions A-S (excluding classes K633...</td>\n",
       "    </tr>\n",
       "    <tr>\n",
       "      <th>2</th>\n",
       "      <td>2023</td>\n",
       "      <td>Level 1</td>\n",
       "      <td>99999</td>\n",
       "      <td>All industries</td>\n",
       "      <td>Dollars (millions)</td>\n",
       "      <td>H05</td>\n",
       "      <td>Interest, dividends and donations</td>\n",
       "      <td>Financial performance</td>\n",
       "      <td>84354</td>\n",
       "      <td>ANZSIC06 divisions A-S (excluding classes K633...</td>\n",
       "    </tr>\n",
       "    <tr>\n",
       "      <th>3</th>\n",
       "      <td>2023</td>\n",
       "      <td>Level 1</td>\n",
       "      <td>99999</td>\n",
       "      <td>All industries</td>\n",
       "      <td>Dollars (millions)</td>\n",
       "      <td>H07</td>\n",
       "      <td>Non-operating income</td>\n",
       "      <td>Financial performance</td>\n",
       "      <td>25010</td>\n",
       "      <td>ANZSIC06 divisions A-S (excluding classes K633...</td>\n",
       "    </tr>\n",
       "    <tr>\n",
       "      <th>4</th>\n",
       "      <td>2023</td>\n",
       "      <td>Level 1</td>\n",
       "      <td>99999</td>\n",
       "      <td>All industries</td>\n",
       "      <td>Dollars (millions)</td>\n",
       "      <td>H08</td>\n",
       "      <td>Total expenditure</td>\n",
       "      <td>Financial performance</td>\n",
       "      <td>832964</td>\n",
       "      <td>ANZSIC06 divisions A-S (excluding classes K633...</td>\n",
       "    </tr>\n",
       "  </tbody>\n",
       "</table>\n",
       "</div>"
      ],
      "text/plain": [
       "   Year Industry_aggregation_NZSIOC Industry_code_NZSIOC Industry_name_NZSIOC  \\\n",
       "0  2023                     Level 1                99999       All industries   \n",
       "1  2023                     Level 1                99999       All industries   \n",
       "2  2023                     Level 1                99999       All industries   \n",
       "3  2023                     Level 1                99999       All industries   \n",
       "4  2023                     Level 1                99999       All industries   \n",
       "\n",
       "                Units Variable_code  \\\n",
       "0  Dollars (millions)           H01   \n",
       "1  Dollars (millions)           H04   \n",
       "2  Dollars (millions)           H05   \n",
       "3  Dollars (millions)           H07   \n",
       "4  Dollars (millions)           H08   \n",
       "\n",
       "                                     Variable_name      Variable_category  \\\n",
       "0                                     Total income  Financial performance   \n",
       "1  Sales, government funding, grants and subsidies  Financial performance   \n",
       "2                Interest, dividends and donations  Financial performance   \n",
       "3                             Non-operating income  Financial performance   \n",
       "4                                Total expenditure  Financial performance   \n",
       "\n",
       "    Value                             Industry_code_ANZSIC06  \n",
       "0  930995  ANZSIC06 divisions A-S (excluding classes K633...  \n",
       "1  821630  ANZSIC06 divisions A-S (excluding classes K633...  \n",
       "2   84354  ANZSIC06 divisions A-S (excluding classes K633...  \n",
       "3   25010  ANZSIC06 divisions A-S (excluding classes K633...  \n",
       "4  832964  ANZSIC06 divisions A-S (excluding classes K633...  "
      ]
     },
     "execution_count": 2,
     "metadata": {},
     "output_type": "execute_result"
    }
   ],
   "source": [
    "import pandas as pd\n",
    "from matplotlib import pyplot as plt\n",
    "\n",
    "data = pd.read_csv(\"./files/annual-enterprise-survey-2023-financial-year-provisional.csv\")\n",
    "\n",
    "data.head()"
   ]
  },
  {
   "cell_type": "code",
   "execution_count": 3,
   "id": "22ef2a37-3e24-49cf-84a4-4083e1173fdf",
   "metadata": {},
   "outputs": [
    {
     "data": {
      "text/plain": [
       "Index(['Year', 'Industry_aggregation_NZSIOC', 'Industry_code_NZSIOC',\n",
       "       'Industry_name_NZSIOC', 'Units', 'Variable_code', 'Variable_name',\n",
       "       'Variable_category', 'Value', 'Industry_code_ANZSIC06'],\n",
       "      dtype='object')"
      ]
     },
     "execution_count": 3,
     "metadata": {},
     "output_type": "execute_result"
    }
   ],
   "source": [
    "data.columns"
   ]
  },
  {
   "cell_type": "code",
   "execution_count": 4,
   "id": "93728097-2763-460a-a2c2-fc119a08407e",
   "metadata": {},
   "outputs": [
    {
     "data": {
      "text/plain": [
       "<bound method NDFrame.describe of 0        930995\n",
       "1        821630\n",
       "2         84354\n",
       "3         25010\n",
       "4        832964\n",
       "          ...  \n",
       "50980        52\n",
       "50981        40\n",
       "50982        12\n",
       "50983         5\n",
       "50984        46\n",
       "Name: Value, Length: 50985, dtype: object>"
      ]
     },
     "execution_count": 4,
     "metadata": {},
     "output_type": "execute_result"
    }
   ],
   "source": [
    "data.Value.describe"
   ]
  },
  {
   "cell_type": "code",
   "execution_count": 5,
   "id": "89da00cd-2ab6-4fc6-a792-9b45720fbbf8",
   "metadata": {},
   "outputs": [],
   "source": [
    "data.Value = pd.to_numeric(data.Value, errors='coerce')"
   ]
  },
  {
   "cell_type": "code",
   "execution_count": 6,
   "id": "55130e4c-66be-4e8f-b2b7-a07c0e2252d0",
   "metadata": {},
   "outputs": [
    {
     "data": {
      "text/plain": [
       "<bound method NDFrame.describe of 0        930995.0\n",
       "1        821630.0\n",
       "2         84354.0\n",
       "3         25010.0\n",
       "4        832964.0\n",
       "           ...   \n",
       "50980        52.0\n",
       "50981        40.0\n",
       "50982        12.0\n",
       "50983         5.0\n",
       "50984        46.0\n",
       "Name: Value, Length: 50985, dtype: float64>"
      ]
     },
     "execution_count": 6,
     "metadata": {},
     "output_type": "execute_result"
    }
   ],
   "source": [
    "data.Value.describe"
   ]
  },
  {
   "cell_type": "code",
   "execution_count": 7,
   "id": "e50336ad-3ddc-4b6c-86c2-1f7fee731a06",
   "metadata": {},
   "outputs": [],
   "source": [
    "Value = data.query(\"Value.notnull() and Variable_code\")"
   ]
  },
  {
   "cell_type": "code",
   "execution_count": 8,
   "id": "d14488d4-9ddf-4b4a-934c-0b00b2765215",
   "metadata": {},
   "outputs": [
    {
     "data": {
      "text/html": [
       "<div>\n",
       "<style scoped>\n",
       "    .dataframe tbody tr th:only-of-type {\n",
       "        vertical-align: middle;\n",
       "    }\n",
       "\n",
       "    .dataframe tbody tr th {\n",
       "        vertical-align: top;\n",
       "    }\n",
       "\n",
       "    .dataframe thead th {\n",
       "        text-align: right;\n",
       "    }\n",
       "</style>\n",
       "<table border=\"1\" class=\"dataframe\">\n",
       "  <thead>\n",
       "    <tr style=\"text-align: right;\">\n",
       "      <th></th>\n",
       "      <th>Year</th>\n",
       "      <th>Industry_aggregation_NZSIOC</th>\n",
       "      <th>Industry_code_NZSIOC</th>\n",
       "      <th>Industry_name_NZSIOC</th>\n",
       "      <th>Units</th>\n",
       "      <th>Variable_code</th>\n",
       "      <th>Variable_name</th>\n",
       "      <th>Variable_category</th>\n",
       "      <th>Value</th>\n",
       "      <th>Industry_code_ANZSIC06</th>\n",
       "    </tr>\n",
       "  </thead>\n",
       "  <tbody>\n",
       "    <tr>\n",
       "      <th>0</th>\n",
       "      <td>2023</td>\n",
       "      <td>Level 1</td>\n",
       "      <td>99999</td>\n",
       "      <td>All industries</td>\n",
       "      <td>Dollars (millions)</td>\n",
       "      <td>H01</td>\n",
       "      <td>Total income</td>\n",
       "      <td>Financial performance</td>\n",
       "      <td>930995.0</td>\n",
       "      <td>ANZSIC06 divisions A-S (excluding classes K633...</td>\n",
       "    </tr>\n",
       "    <tr>\n",
       "      <th>1</th>\n",
       "      <td>2023</td>\n",
       "      <td>Level 1</td>\n",
       "      <td>99999</td>\n",
       "      <td>All industries</td>\n",
       "      <td>Dollars (millions)</td>\n",
       "      <td>H04</td>\n",
       "      <td>Sales, government funding, grants and subsidies</td>\n",
       "      <td>Financial performance</td>\n",
       "      <td>821630.0</td>\n",
       "      <td>ANZSIC06 divisions A-S (excluding classes K633...</td>\n",
       "    </tr>\n",
       "    <tr>\n",
       "      <th>2</th>\n",
       "      <td>2023</td>\n",
       "      <td>Level 1</td>\n",
       "      <td>99999</td>\n",
       "      <td>All industries</td>\n",
       "      <td>Dollars (millions)</td>\n",
       "      <td>H05</td>\n",
       "      <td>Interest, dividends and donations</td>\n",
       "      <td>Financial performance</td>\n",
       "      <td>84354.0</td>\n",
       "      <td>ANZSIC06 divisions A-S (excluding classes K633...</td>\n",
       "    </tr>\n",
       "    <tr>\n",
       "      <th>3</th>\n",
       "      <td>2023</td>\n",
       "      <td>Level 1</td>\n",
       "      <td>99999</td>\n",
       "      <td>All industries</td>\n",
       "      <td>Dollars (millions)</td>\n",
       "      <td>H07</td>\n",
       "      <td>Non-operating income</td>\n",
       "      <td>Financial performance</td>\n",
       "      <td>25010.0</td>\n",
       "      <td>ANZSIC06 divisions A-S (excluding classes K633...</td>\n",
       "    </tr>\n",
       "    <tr>\n",
       "      <th>4</th>\n",
       "      <td>2023</td>\n",
       "      <td>Level 1</td>\n",
       "      <td>99999</td>\n",
       "      <td>All industries</td>\n",
       "      <td>Dollars (millions)</td>\n",
       "      <td>H08</td>\n",
       "      <td>Total expenditure</td>\n",
       "      <td>Financial performance</td>\n",
       "      <td>832964.0</td>\n",
       "      <td>ANZSIC06 divisions A-S (excluding classes K633...</td>\n",
       "    </tr>\n",
       "    <tr>\n",
       "      <th>...</th>\n",
       "      <td>...</td>\n",
       "      <td>...</td>\n",
       "      <td>...</td>\n",
       "      <td>...</td>\n",
       "      <td>...</td>\n",
       "      <td>...</td>\n",
       "      <td>...</td>\n",
       "      <td>...</td>\n",
       "      <td>...</td>\n",
       "      <td>...</td>\n",
       "    </tr>\n",
       "    <tr>\n",
       "      <th>50980</th>\n",
       "      <td>2013</td>\n",
       "      <td>Level 3</td>\n",
       "      <td>ZZ11</td>\n",
       "      <td>Food product manufacturing</td>\n",
       "      <td>Percentage</td>\n",
       "      <td>H37</td>\n",
       "      <td>Quick ratio</td>\n",
       "      <td>Financial ratios</td>\n",
       "      <td>52.0</td>\n",
       "      <td>ANZSIC06 groups C111, C112, C113, C114, C115, ...</td>\n",
       "    </tr>\n",
       "    <tr>\n",
       "      <th>50981</th>\n",
       "      <td>2013</td>\n",
       "      <td>Level 3</td>\n",
       "      <td>ZZ11</td>\n",
       "      <td>Food product manufacturing</td>\n",
       "      <td>Percentage</td>\n",
       "      <td>H38</td>\n",
       "      <td>Margin on sales of goods for resale</td>\n",
       "      <td>Financial ratios</td>\n",
       "      <td>40.0</td>\n",
       "      <td>ANZSIC06 groups C111, C112, C113, C114, C115, ...</td>\n",
       "    </tr>\n",
       "    <tr>\n",
       "      <th>50982</th>\n",
       "      <td>2013</td>\n",
       "      <td>Level 3</td>\n",
       "      <td>ZZ11</td>\n",
       "      <td>Food product manufacturing</td>\n",
       "      <td>Percentage</td>\n",
       "      <td>H39</td>\n",
       "      <td>Return on equity</td>\n",
       "      <td>Financial ratios</td>\n",
       "      <td>12.0</td>\n",
       "      <td>ANZSIC06 groups C111, C112, C113, C114, C115, ...</td>\n",
       "    </tr>\n",
       "    <tr>\n",
       "      <th>50983</th>\n",
       "      <td>2013</td>\n",
       "      <td>Level 3</td>\n",
       "      <td>ZZ11</td>\n",
       "      <td>Food product manufacturing</td>\n",
       "      <td>Percentage</td>\n",
       "      <td>H40</td>\n",
       "      <td>Return on total assets</td>\n",
       "      <td>Financial ratios</td>\n",
       "      <td>5.0</td>\n",
       "      <td>ANZSIC06 groups C111, C112, C113, C114, C115, ...</td>\n",
       "    </tr>\n",
       "    <tr>\n",
       "      <th>50984</th>\n",
       "      <td>2013</td>\n",
       "      <td>Level 3</td>\n",
       "      <td>ZZ11</td>\n",
       "      <td>Food product manufacturing</td>\n",
       "      <td>Percentage</td>\n",
       "      <td>H41</td>\n",
       "      <td>Liabilities structure</td>\n",
       "      <td>Financial ratios</td>\n",
       "      <td>46.0</td>\n",
       "      <td>ANZSIC06 groups C111, C112, C113, C114, C115, ...</td>\n",
       "    </tr>\n",
       "  </tbody>\n",
       "</table>\n",
       "<p>35932 rows × 10 columns</p>\n",
       "</div>"
      ],
      "text/plain": [
       "       Year Industry_aggregation_NZSIOC Industry_code_NZSIOC  \\\n",
       "0      2023                     Level 1                99999   \n",
       "1      2023                     Level 1                99999   \n",
       "2      2023                     Level 1                99999   \n",
       "3      2023                     Level 1                99999   \n",
       "4      2023                     Level 1                99999   \n",
       "...     ...                         ...                  ...   \n",
       "50980  2013                     Level 3                 ZZ11   \n",
       "50981  2013                     Level 3                 ZZ11   \n",
       "50982  2013                     Level 3                 ZZ11   \n",
       "50983  2013                     Level 3                 ZZ11   \n",
       "50984  2013                     Level 3                 ZZ11   \n",
       "\n",
       "             Industry_name_NZSIOC               Units Variable_code  \\\n",
       "0                  All industries  Dollars (millions)           H01   \n",
       "1                  All industries  Dollars (millions)           H04   \n",
       "2                  All industries  Dollars (millions)           H05   \n",
       "3                  All industries  Dollars (millions)           H07   \n",
       "4                  All industries  Dollars (millions)           H08   \n",
       "...                           ...                 ...           ...   \n",
       "50980  Food product manufacturing          Percentage           H37   \n",
       "50981  Food product manufacturing          Percentage           H38   \n",
       "50982  Food product manufacturing          Percentage           H39   \n",
       "50983  Food product manufacturing          Percentage           H40   \n",
       "50984  Food product manufacturing          Percentage           H41   \n",
       "\n",
       "                                         Variable_name      Variable_category  \\\n",
       "0                                         Total income  Financial performance   \n",
       "1      Sales, government funding, grants and subsidies  Financial performance   \n",
       "2                    Interest, dividends and donations  Financial performance   \n",
       "3                                 Non-operating income  Financial performance   \n",
       "4                                    Total expenditure  Financial performance   \n",
       "...                                                ...                    ...   \n",
       "50980                                      Quick ratio       Financial ratios   \n",
       "50981              Margin on sales of goods for resale       Financial ratios   \n",
       "50982                                 Return on equity       Financial ratios   \n",
       "50983                           Return on total assets       Financial ratios   \n",
       "50984                            Liabilities structure       Financial ratios   \n",
       "\n",
       "          Value                             Industry_code_ANZSIC06  \n",
       "0      930995.0  ANZSIC06 divisions A-S (excluding classes K633...  \n",
       "1      821630.0  ANZSIC06 divisions A-S (excluding classes K633...  \n",
       "2       84354.0  ANZSIC06 divisions A-S (excluding classes K633...  \n",
       "3       25010.0  ANZSIC06 divisions A-S (excluding classes K633...  \n",
       "4      832964.0  ANZSIC06 divisions A-S (excluding classes K633...  \n",
       "...         ...                                                ...  \n",
       "50980      52.0  ANZSIC06 groups C111, C112, C113, C114, C115, ...  \n",
       "50981      40.0  ANZSIC06 groups C111, C112, C113, C114, C115, ...  \n",
       "50982      12.0  ANZSIC06 groups C111, C112, C113, C114, C115, ...  \n",
       "50983       5.0  ANZSIC06 groups C111, C112, C113, C114, C115, ...  \n",
       "50984      46.0  ANZSIC06 groups C111, C112, C113, C114, C115, ...  \n",
       "\n",
       "[35932 rows x 10 columns]"
      ]
     },
     "execution_count": 8,
     "metadata": {},
     "output_type": "execute_result"
    }
   ],
   "source": [
    "Value"
   ]
  },
  {
   "cell_type": "code",
   "execution_count": 30,
   "id": "a1fbaa9f-39c8-4e46-af1b-0eec0805dd60",
   "metadata": {},
   "outputs": [
    {
     "name": "stderr",
     "output_type": "stream",
     "text": [
      "/tmp/ipykernel_14160/2376607886.py:1: SettingWithCopyWarning: \n",
      "A value is trying to be set on a copy of a slice from a DataFrame\n",
      "\n",
      "See the caveats in the documentation: https://pandas.pydata.org/pandas-docs/stable/user_guide/indexing.html#returning-a-view-versus-a-copy\n",
      "  Value.sort_index(inplace=True)\n"
     ]
    }
   ],
   "source": [
    "Value.sort_index(inplace=True)"
   ]
  },
  {
   "cell_type": "code",
   "execution_count": 31,
   "id": "53b915c7-dad7-47e7-9db4-1627b066c242",
   "metadata": {},
   "outputs": [
    {
     "data": {
      "text/plain": [
       "['Solarize_Light2',\n",
       " '_classic_test_patch',\n",
       " '_mpl-gallery',\n",
       " '_mpl-gallery-nogrid',\n",
       " 'bmh',\n",
       " 'classic',\n",
       " 'dark_background',\n",
       " 'fast',\n",
       " 'fivethirtyeight',\n",
       " 'ggplot',\n",
       " 'grayscale',\n",
       " 'seaborn-v0_8',\n",
       " 'seaborn-v0_8-bright',\n",
       " 'seaborn-v0_8-colorblind',\n",
       " 'seaborn-v0_8-dark',\n",
       " 'seaborn-v0_8-dark-palette',\n",
       " 'seaborn-v0_8-darkgrid',\n",
       " 'seaborn-v0_8-deep',\n",
       " 'seaborn-v0_8-muted',\n",
       " 'seaborn-v0_8-notebook',\n",
       " 'seaborn-v0_8-paper',\n",
       " 'seaborn-v0_8-pastel',\n",
       " 'seaborn-v0_8-poster',\n",
       " 'seaborn-v0_8-talk',\n",
       " 'seaborn-v0_8-ticks',\n",
       " 'seaborn-v0_8-white',\n",
       " 'seaborn-v0_8-whitegrid',\n",
       " 'tableau-colorblind10']"
      ]
     },
     "execution_count": 31,
     "metadata": {},
     "output_type": "execute_result"
    }
   ],
   "source": [
    "plt.style.available"
   ]
  },
  {
   "cell_type": "code",
   "execution_count": 33,
   "id": "f543f04a-070f-46d5-ac52-5918bf99afce",
   "metadata": {},
   "outputs": [
    {
     "data": {
      "image/png": "[encoded data removed]",
      "text/plain": [
       "<Figure size 640x480 with 1 Axes>"
      ]
     },
     "metadata": {},
     "output_type": "display_data"
    }
   ],
   "source": [
    "plt.title(\"Industrial Financial Value.\")\n",
    "plt.xlabel(\"Variable_code\")\n",
    "plt.ylabel(\"Values\")\n",
    "plt.barh(Value.iloc[:20, 5], Value.iloc[:20, 8], label=\"Financial distribution\")\n",
    "plt.show()"
   ]
  },
  {
   "cell_type": "code",
   "execution_count": 34,
   "id": "c3d45b28-a1d5-43cc-b5c3-3fd445c87e1d",
   "metadata": {},
   "outputs": [
    {
     "data": {
      "text/html": [
       "<div>\n",
       "<style scoped>\n",
       "    .dataframe tbody tr th:only-of-type {\n",
       "        vertical-align: middle;\n",
       "    }\n",
       "\n",
       "    .dataframe tbody tr th {\n",
       "        vertical-align: top;\n",
       "    }\n",
       "\n",
       "    .dataframe thead th {\n",
       "        text-align: right;\n",
       "    }\n",
       "</style>\n",
       "<table border=\"1\" class=\"dataframe\">\n",
       "  <thead>\n",
       "    <tr style=\"text-align: right;\">\n",
       "      <th></th>\n",
       "      <th>Year</th>\n",
       "      <th>Industry_aggregation_NZSIOC</th>\n",
       "      <th>Industry_code_NZSIOC</th>\n",
       "      <th>Industry_name_NZSIOC</th>\n",
       "      <th>Units</th>\n",
       "      <th>Variable_code</th>\n",
       "      <th>Variable_name</th>\n",
       "      <th>Variable_category</th>\n",
       "      <th>Value</th>\n",
       "      <th>Industry_code_ANZSIC06</th>\n",
       "    </tr>\n",
       "  </thead>\n",
       "  <tbody>\n",
       "    <tr>\n",
       "      <th>0</th>\n",
       "      <td>2023</td>\n",
       "      <td>Level 1</td>\n",
       "      <td>99999</td>\n",
       "      <td>All industries</td>\n",
       "      <td>Dollars (millions)</td>\n",
       "      <td>H01</td>\n",
       "      <td>Total income</td>\n",
       "      <td>Financial performance</td>\n",
       "      <td>930995.0</td>\n",
       "      <td>ANZSIC06 divisions A-S (excluding classes K633...</td>\n",
       "    </tr>\n",
       "    <tr>\n",
       "      <th>1</th>\n",
       "      <td>2023</td>\n",
       "      <td>Level 1</td>\n",
       "      <td>99999</td>\n",
       "      <td>All industries</td>\n",
       "      <td>Dollars (millions)</td>\n",
       "      <td>H04</td>\n",
       "      <td>Sales, government funding, grants and subsidies</td>\n",
       "      <td>Financial performance</td>\n",
       "      <td>821630.0</td>\n",
       "      <td>ANZSIC06 divisions A-S (excluding classes K633...</td>\n",
       "    </tr>\n",
       "    <tr>\n",
       "      <th>2</th>\n",
       "      <td>2023</td>\n",
       "      <td>Level 1</td>\n",
       "      <td>99999</td>\n",
       "      <td>All industries</td>\n",
       "      <td>Dollars (millions)</td>\n",
       "      <td>H05</td>\n",
       "      <td>Interest, dividends and donations</td>\n",
       "      <td>Financial performance</td>\n",
       "      <td>84354.0</td>\n",
       "      <td>ANZSIC06 divisions A-S (excluding classes K633...</td>\n",
       "    </tr>\n",
       "    <tr>\n",
       "      <th>3</th>\n",
       "      <td>2023</td>\n",
       "      <td>Level 1</td>\n",
       "      <td>99999</td>\n",
       "      <td>All industries</td>\n",
       "      <td>Dollars (millions)</td>\n",
       "      <td>H07</td>\n",
       "      <td>Non-operating income</td>\n",
       "      <td>Financial performance</td>\n",
       "      <td>25010.0</td>\n",
       "      <td>ANZSIC06 divisions A-S (excluding classes K633...</td>\n",
       "    </tr>\n",
       "    <tr>\n",
       "      <th>4</th>\n",
       "      <td>2023</td>\n",
       "      <td>Level 1</td>\n",
       "      <td>99999</td>\n",
       "      <td>All industries</td>\n",
       "      <td>Dollars (millions)</td>\n",
       "      <td>H08</td>\n",
       "      <td>Total expenditure</td>\n",
       "      <td>Financial performance</td>\n",
       "      <td>832964.0</td>\n",
       "      <td>ANZSIC06 divisions A-S (excluding classes K633...</td>\n",
       "    </tr>\n",
       "  </tbody>\n",
       "</table>\n",
       "</div>"
      ],
      "text/plain": [
       "   Year Industry_aggregation_NZSIOC Industry_code_NZSIOC Industry_name_NZSIOC  \\\n",
       "0  2023                     Level 1                99999       All industries   \n",
       "1  2023                     Level 1                99999       All industries   \n",
       "2  2023                     Level 1                99999       All industries   \n",
       "3  2023                     Level 1                99999       All industries   \n",
       "4  2023                     Level 1                99999       All industries   \n",
       "\n",
       "                Units Variable_code  \\\n",
       "0  Dollars (millions)           H01   \n",
       "1  Dollars (millions)           H04   \n",
       "2  Dollars (millions)           H05   \n",
       "3  Dollars (millions)           H07   \n",
       "4  Dollars (millions)           H08   \n",
       "\n",
       "                                     Variable_name      Variable_category  \\\n",
       "0                                     Total income  Financial performance   \n",
       "1  Sales, government funding, grants and subsidies  Financial performance   \n",
       "2                Interest, dividends and donations  Financial performance   \n",
       "3                             Non-operating income  Financial performance   \n",
       "4                                Total expenditure  Financial performance   \n",
       "\n",
       "      Value                             Industry_code_ANZSIC06  \n",
       "0  930995.0  ANZSIC06 divisions A-S (excluding classes K633...  \n",
       "1  821630.0  ANZSIC06 divisions A-S (excluding classes K633...  \n",
       "2   84354.0  ANZSIC06 divisions A-S (excluding classes K633...  \n",
       "3   25010.0  ANZSIC06 divisions A-S (excluding classes K633...  \n",
       "4  832964.0  ANZSIC06 divisions A-S (excluding classes K633...  "
      ]
     },
     "execution_count": 34,
     "metadata": {},
     "output_type": "execute_result"
    }
   ],
   "source": [
    "data.head()"
   ]
  },
  {
   "cell_type": "code",
   "execution_count": 35,
   "id": "d518aab1-a8ef-4929-af56-20d326b31a2e",
   "metadata": {},
   "outputs": [
    {
     "data": {
      "text/plain": [
       "array(['Level 1', 'Level 3', 'Level 4'], dtype=object)"
      ]
     },
     "execution_count": 35,
     "metadata": {},
     "output_type": "execute_result"
    }
   ],
   "source": [
    "data.Industry_aggregation_NZSIOC.unique()"
   ]
  },
  {
   "cell_type": "code",
   "execution_count": 37,
   "id": "b8e1ac4f-70fa-4943-a34a-351c2ca836b1",
   "metadata": {},
   "outputs": [],
   "source": [
    "levels = data.Industry_aggregation_NZSIOC.value_counts()"
   ]
  },
  {
   "cell_type": "code",
   "execution_count": 41,
   "id": "2684f8d4-e1f4-4784-9189-bf0e7c13dfc2",
   "metadata": {},
   "outputs": [
    {
     "data": {
      "text/plain": [
       "dtype('int64')"
      ]
     },
     "execution_count": 41,
     "metadata": {},
     "output_type": "execute_result"
    }
   ],
   "source": [
    "levels.dtype"
   ]
  },
  {
   "cell_type": "code",
   "execution_count": 44,
   "id": "76176e71-3060-4560-ae47-eb5d2f995964",
   "metadata": {},
   "outputs": [
    {
     "data": {
      "text/plain": [
       "'Level 3'"
      ]
     },
     "execution_count": 44,
     "metadata": {},
     "output_type": "execute_result"
    }
   ],
   "source": [
    "levels.index[1]"
   ]
  },
  {
   "cell_type": "code",
   "execution_count": 45,
   "id": "72689c2e-8247-4f6a-bb86-bcfc81a055ea",
   "metadata": {},
   "outputs": [
    {
     "data": {
      "text/plain": [
       "Industry_aggregation_NZSIOC\n",
       "Level 4    27907\n",
       "Level 3    16929\n",
       "Level 1     6149\n",
       "Name: count, dtype: int64"
      ]
     },
     "execution_count": 45,
     "metadata": {},
     "output_type": "execute_result"
    }
   ],
   "source": [
    "levels"
   ]
  },
  {
   "cell_type": "code",
   "execution_count": 50,
   "id": "3ceff4bd-7c9f-4787-9d78-eeae8e36e340",
   "metadata": {},
   "outputs": [
    {
     "data": {
      "text/plain": [
       "[<matplotlib.lines.Line2D at 0x7f5c084b5fd0>]"
      ]
     },
     "execution_count": 50,
     "metadata": {},
     "output_type": "execute_result"
    },
    {
     "data": {
      "image/png": "[encoded data removed]",
      "text/plain": [
       "<Figure size 800x550 with 1 Axes>"
      ]
     },
     "metadata": {},
     "output_type": "display_data"
    }
   ],
   "source": [
    "plt.title(\"company Levels\")\n",
    "plt.xlabel(\"Comany Level\")\n",
    "plt.ylabel(\"Number Of Companies\")\n",
    "plt.style.use(\"grayscale\")\n",
    "plt.plot(levels.index, levels)"
   ]
  },
  {
   "cell_type": "code",
   "execution_count": null,
   "id": "23c1dd6f-45d0-4b49-9219-7ef6121a80c6",
   "metadata": {},
   "outputs": [],
   "source": []
  }
 ],
 "metadata": {
  "kernelspec": {
   "display_name": "Python 3 (ipykernel)",
   "language": "python",
   "name": "python3"
  },
  "language_info": {
   "codemirror_mode": {
    "name": "ipython",
    "version": 3
   },
   "file_extension": ".py",
   "mimetype": "text/x-python",
   "name": "python",
   "nbconvert_exporter": "python",
   "pygments_lexer": "ipython3",
   "version": "3.11.2"
  }
 },
 "nbformat": 4,
 "nbformat_minor": 5
}
