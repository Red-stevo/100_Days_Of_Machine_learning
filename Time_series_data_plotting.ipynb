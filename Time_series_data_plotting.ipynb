{
 "cells": [
  {
   "cell_type": "code",
   "execution_count": 2,
   "id": "970ccec1-9a78-44c5-b4fb-1c6a33a8596e",
   "metadata": {},
   "outputs": [
    {
     "data": {
      "text/html": [
       "<div>\n",
       "<style scoped>\n",
       "    .dataframe tbody tr th:only-of-type {\n",
       "        vertical-align: middle;\n",
       "    }\n",
       "\n",
       "    .dataframe tbody tr th {\n",
       "        vertical-align: top;\n",
       "    }\n",
       "\n",
       "    .dataframe thead th {\n",
       "        text-align: right;\n",
       "    }\n",
       "</style>\n",
       "<table border=\"1\" class=\"dataframe\">\n",
       "  <thead>\n",
       "    <tr style=\"text-align: right;\">\n",
       "      <th></th>\n",
       "      <th>DATE</th>\n",
       "      <th>IPG2211A2N</th>\n",
       "    </tr>\n",
       "  </thead>\n",
       "  <tbody>\n",
       "    <tr>\n",
       "      <th>0</th>\n",
       "      <td>1/1/1985</td>\n",
       "      <td>72.5052</td>\n",
       "    </tr>\n",
       "    <tr>\n",
       "      <th>1</th>\n",
       "      <td>2/1/1985</td>\n",
       "      <td>70.6720</td>\n",
       "    </tr>\n",
       "    <tr>\n",
       "      <th>2</th>\n",
       "      <td>3/1/1985</td>\n",
       "      <td>62.4502</td>\n",
       "    </tr>\n",
       "    <tr>\n",
       "      <th>3</th>\n",
       "      <td>4/1/1985</td>\n",
       "      <td>57.4714</td>\n",
       "    </tr>\n",
       "    <tr>\n",
       "      <th>4</th>\n",
       "      <td>5/1/1985</td>\n",
       "      <td>55.3151</td>\n",
       "    </tr>\n",
       "  </tbody>\n",
       "</table>\n",
       "</div>"
      ],
      "text/plain": [
       "       DATE  IPG2211A2N\n",
       "0  1/1/1985     72.5052\n",
       "1  2/1/1985     70.6720\n",
       "2  3/1/1985     62.4502\n",
       "3  4/1/1985     57.4714\n",
       "4  5/1/1985     55.3151"
      ]
     },
     "execution_count": 2,
     "metadata": {},
     "output_type": "execute_result"
    }
   ],
   "source": [
    "import pandas as pd\n",
    "from matplotlib import pyplot as plt\n",
    "\n",
    "\n",
    "data = pd.read_csv(\"./files/Electric_Production.xls\")\n",
    "data.head()"
   ]
  },
  {
   "cell_type": "code",
   "execution_count": 3,
   "id": "bb3945d3-02ad-4127-b622-f4776ab3af99",
   "metadata": {},
   "outputs": [
    {
     "data": {
      "text/plain": [
       "<bound method NDFrame.describe of 0       1/1/1985\n",
       "1       2/1/1985\n",
       "2       3/1/1985\n",
       "3       4/1/1985\n",
       "4       5/1/1985\n",
       "         ...    \n",
       "392     9/1/2017\n",
       "393    10/1/2017\n",
       "394    11/1/2017\n",
       "395    12/1/2017\n",
       "396     1/1/2018\n",
       "Name: DATE, Length: 397, dtype: object>"
      ]
     },
     "execution_count": 3,
     "metadata": {},
     "output_type": "execute_result"
    }
   ],
   "source": [
    "data.DATE.describe"
   ]
  },
  {
   "cell_type": "code",
   "execution_count": 4,
   "id": "1502c760-4802-45af-8926-b44d112c7432",
   "metadata": {},
   "outputs": [],
   "source": [
    "data.DATE = pd.to_datetime(data.DATE)"
   ]
  },
  {
   "cell_type": "code",
   "execution_count": 5,
   "id": "1995a52d-14ba-443c-ad44-400d8358adcb",
   "metadata": {},
   "outputs": [
    {
     "data": {
      "text/plain": [
       "<bound method NDFrame.describe of 0     1985-01-01\n",
       "1     1985-02-01\n",
       "2     1985-03-01\n",
       "3     1985-04-01\n",
       "4     1985-05-01\n",
       "         ...    \n",
       "392   2017-09-01\n",
       "393   2017-10-01\n",
       "394   2017-11-01\n",
       "395   2017-12-01\n",
       "396   2018-01-01\n",
       "Name: DATE, Length: 397, dtype: datetime64[ns]>"
      ]
     },
     "execution_count": 5,
     "metadata": {},
     "output_type": "execute_result"
    }
   ],
   "source": [
    "data.DATE.describe"
   ]
  },
  {
   "cell_type": "code",
   "execution_count": null,
   "id": "7aff57fd-1a3d-4d0f-82b7-b4058faec26f",
   "metadata": {},
   "outputs": [],
   "source": [
    "data.sort_values(inplace=True, )"
   ]
  }
 ],
 "metadata": {
  "kernelspec": {
   "display_name": "Python 3 (ipykernel)",
   "language": "python",
   "name": "python3"
  },
  "language_info": {
   "codemirror_mode": {
    "name": "ipython",
    "version": 3
   },
   "file_extension": ".py",
   "mimetype": "text/x-python",
   "name": "python",
   "nbconvert_exporter": "python",
   "pygments_lexer": "ipython3",
   "version": "3.11.2"
  }
 },
 "nbformat": 4,
 "nbformat_minor": 5
}
